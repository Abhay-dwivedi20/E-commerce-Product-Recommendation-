{
 "cells": [
  {
   "cell_type": "code",
   "execution_count": 1,
   "id": "e997a954-1c2a-47c5-8ff1-aa5d4b74bdfe",
   "metadata": {},
   "outputs": [],
   "source": [
    "import pandas as pd\n",
    "import numpy as np\n"
   ]
  },
  {
   "cell_type": "code",
   "execution_count": 2,
   "id": "96448ce7-0096-44ba-91c6-9f241add3853",
   "metadata": {},
   "outputs": [],
   "source": [
    "\n",
    "# Load the dataset\n",
    "df = pd.read_csv(\"amazon.csv\")\n"
   ]
  },
  {
   "cell_type": "code",
   "execution_count": 16,
   "id": "8bdcddcd",
   "metadata": {},
   "outputs": [
    {
     "data": {
      "text/plain": [
       "Index(['product_id', 'product_name', 'category', 'discounted_price',\n",
       "       'actual_price', 'discount_percentage', 'rating', 'rating_count',\n",
       "       'about_product', 'user_id', 'user_name', 'review_id', 'review_title',\n",
       "       'review_content', 'img_link', 'product_link'],\n",
       "      dtype='object')"
      ]
     },
     "execution_count": 16,
     "metadata": {},
     "output_type": "execute_result"
    }
   ],
   "source": [
    "df.columns"
   ]
  },
  {
   "cell_type": "code",
   "execution_count": 17,
   "id": "1f79f5bb",
   "metadata": {},
   "outputs": [
    {
     "data": {
      "text/html": [
       "<div>\n",
       "<style scoped>\n",
       "    .dataframe tbody tr th:only-of-type {\n",
       "        vertical-align: middle;\n",
       "    }\n",
       "\n",
       "    .dataframe tbody tr th {\n",
       "        vertical-align: top;\n",
       "    }\n",
       "\n",
       "    .dataframe thead th {\n",
       "        text-align: right;\n",
       "    }\n",
       "</style>\n",
       "<table border=\"1\" class=\"dataframe\">\n",
       "  <thead>\n",
       "    <tr style=\"text-align: right;\">\n",
       "      <th></th>\n",
       "      <th>product_id</th>\n",
       "      <th>product_name</th>\n",
       "      <th>category</th>\n",
       "      <th>discounted_price</th>\n",
       "      <th>actual_price</th>\n",
       "      <th>discount_percentage</th>\n",
       "      <th>rating</th>\n",
       "      <th>rating_count</th>\n",
       "      <th>about_product</th>\n",
       "      <th>user_id</th>\n",
       "      <th>user_name</th>\n",
       "      <th>review_id</th>\n",
       "      <th>review_title</th>\n",
       "      <th>review_content</th>\n",
       "      <th>img_link</th>\n",
       "      <th>product_link</th>\n",
       "    </tr>\n",
       "  </thead>\n",
       "  <tbody>\n",
       "    <tr>\n",
       "      <th>0</th>\n",
       "      <td>B07JW9H4J1</td>\n",
       "      <td>Wayona Nylon Braided USB to Lightning Fast Cha...</td>\n",
       "      <td>Computers&amp;Accessories|Accessories&amp;Peripherals|...</td>\n",
       "      <td>399.0</td>\n",
       "      <td>1099.0</td>\n",
       "      <td>64.0</td>\n",
       "      <td>4.2</td>\n",
       "      <td>24269.0</td>\n",
       "      <td>High Compatibility : Compatible With iPhone 12...</td>\n",
       "      <td>AG3D6O4STAQKAY2UVGEUV46KN35Q</td>\n",
       "      <td>Manav,Adarsh gupta,Sundeep,S.Sayeed Ahmed,jasp...</td>\n",
       "      <td>R3HXWT0LRP0NMF,R2AJM3LFTLZHFO,R6AQJGUP6P86,R1K...</td>\n",
       "      <td>Satisfied,Charging is really fast,Value for mo...</td>\n",
       "      <td>Looks durable Charging is fine tooNo complains...</td>\n",
       "      <td>https://m.media-amazon.com/images/W/WEBP_40237...</td>\n",
       "      <td>https://www.amazon.in/Wayona-Braided-WN3LG1-Sy...</td>\n",
       "    </tr>\n",
       "    <tr>\n",
       "      <th>1</th>\n",
       "      <td>B07JW9H4J1</td>\n",
       "      <td>Wayona Nylon Braided USB to Lightning Fast Cha...</td>\n",
       "      <td>Computers&amp;Accessories|Accessories&amp;Peripherals|...</td>\n",
       "      <td>399.0</td>\n",
       "      <td>1099.0</td>\n",
       "      <td>64.0</td>\n",
       "      <td>4.2</td>\n",
       "      <td>24269.0</td>\n",
       "      <td>High Compatibility : Compatible With iPhone 12...</td>\n",
       "      <td>AHMY5CWJMMK5BJRBBSNLYT3ONILA</td>\n",
       "      <td>Manav,Adarsh gupta,Sundeep,S.Sayeed Ahmed,jasp...</td>\n",
       "      <td>R3HXWT0LRP0NMF,R2AJM3LFTLZHFO,R6AQJGUP6P86,R1K...</td>\n",
       "      <td>Satisfied,Charging is really fast,Value for mo...</td>\n",
       "      <td>Looks durable Charging is fine tooNo complains...</td>\n",
       "      <td>https://m.media-amazon.com/images/W/WEBP_40237...</td>\n",
       "      <td>https://www.amazon.in/Wayona-Braided-WN3LG1-Sy...</td>\n",
       "    </tr>\n",
       "    <tr>\n",
       "      <th>2</th>\n",
       "      <td>B07JW9H4J1</td>\n",
       "      <td>Wayona Nylon Braided USB to Lightning Fast Cha...</td>\n",
       "      <td>Computers&amp;Accessories|Accessories&amp;Peripherals|...</td>\n",
       "      <td>399.0</td>\n",
       "      <td>1099.0</td>\n",
       "      <td>64.0</td>\n",
       "      <td>4.2</td>\n",
       "      <td>24269.0</td>\n",
       "      <td>High Compatibility : Compatible With iPhone 12...</td>\n",
       "      <td>AHCTC6ULH4XB6YHDY6PCH2R772LQ</td>\n",
       "      <td>Manav,Adarsh gupta,Sundeep,S.Sayeed Ahmed,jasp...</td>\n",
       "      <td>R3HXWT0LRP0NMF,R2AJM3LFTLZHFO,R6AQJGUP6P86,R1K...</td>\n",
       "      <td>Satisfied,Charging is really fast,Value for mo...</td>\n",
       "      <td>Looks durable Charging is fine tooNo complains...</td>\n",
       "      <td>https://m.media-amazon.com/images/W/WEBP_40237...</td>\n",
       "      <td>https://www.amazon.in/Wayona-Braided-WN3LG1-Sy...</td>\n",
       "    </tr>\n",
       "    <tr>\n",
       "      <th>3</th>\n",
       "      <td>B07JW9H4J1</td>\n",
       "      <td>Wayona Nylon Braided USB to Lightning Fast Cha...</td>\n",
       "      <td>Computers&amp;Accessories|Accessories&amp;Peripherals|...</td>\n",
       "      <td>399.0</td>\n",
       "      <td>1099.0</td>\n",
       "      <td>64.0</td>\n",
       "      <td>4.2</td>\n",
       "      <td>24269.0</td>\n",
       "      <td>High Compatibility : Compatible With iPhone 12...</td>\n",
       "      <td>AGYHHIERNXKA6P5T7CZLXKVPT7IQ</td>\n",
       "      <td>Manav,Adarsh gupta,Sundeep,S.Sayeed Ahmed,jasp...</td>\n",
       "      <td>R3HXWT0LRP0NMF,R2AJM3LFTLZHFO,R6AQJGUP6P86,R1K...</td>\n",
       "      <td>Satisfied,Charging is really fast,Value for mo...</td>\n",
       "      <td>Looks durable Charging is fine tooNo complains...</td>\n",
       "      <td>https://m.media-amazon.com/images/W/WEBP_40237...</td>\n",
       "      <td>https://www.amazon.in/Wayona-Braided-WN3LG1-Sy...</td>\n",
       "    </tr>\n",
       "    <tr>\n",
       "      <th>4</th>\n",
       "      <td>B07JW9H4J1</td>\n",
       "      <td>Wayona Nylon Braided USB to Lightning Fast Cha...</td>\n",
       "      <td>Computers&amp;Accessories|Accessories&amp;Peripherals|...</td>\n",
       "      <td>399.0</td>\n",
       "      <td>1099.0</td>\n",
       "      <td>64.0</td>\n",
       "      <td>4.2</td>\n",
       "      <td>24269.0</td>\n",
       "      <td>High Compatibility : Compatible With iPhone 12...</td>\n",
       "      <td>AG4OGOFWXJZTQ2HKYIOCOY3KXF2Q</td>\n",
       "      <td>Manav,Adarsh gupta,Sundeep,S.Sayeed Ahmed,jasp...</td>\n",
       "      <td>R3HXWT0LRP0NMF,R2AJM3LFTLZHFO,R6AQJGUP6P86,R1K...</td>\n",
       "      <td>Satisfied,Charging is really fast,Value for mo...</td>\n",
       "      <td>Looks durable Charging is fine tooNo complains...</td>\n",
       "      <td>https://m.media-amazon.com/images/W/WEBP_40237...</td>\n",
       "      <td>https://www.amazon.in/Wayona-Braided-WN3LG1-Sy...</td>\n",
       "    </tr>\n",
       "  </tbody>\n",
       "</table>\n",
       "</div>"
      ],
      "text/plain": [
       "   product_id                                       product_name  \\\n",
       "0  B07JW9H4J1  Wayona Nylon Braided USB to Lightning Fast Cha...   \n",
       "1  B07JW9H4J1  Wayona Nylon Braided USB to Lightning Fast Cha...   \n",
       "2  B07JW9H4J1  Wayona Nylon Braided USB to Lightning Fast Cha...   \n",
       "3  B07JW9H4J1  Wayona Nylon Braided USB to Lightning Fast Cha...   \n",
       "4  B07JW9H4J1  Wayona Nylon Braided USB to Lightning Fast Cha...   \n",
       "\n",
       "                                            category  discounted_price  \\\n",
       "0  Computers&Accessories|Accessories&Peripherals|...             399.0   \n",
       "1  Computers&Accessories|Accessories&Peripherals|...             399.0   \n",
       "2  Computers&Accessories|Accessories&Peripherals|...             399.0   \n",
       "3  Computers&Accessories|Accessories&Peripherals|...             399.0   \n",
       "4  Computers&Accessories|Accessories&Peripherals|...             399.0   \n",
       "\n",
       "   actual_price  discount_percentage  rating  rating_count  \\\n",
       "0        1099.0                 64.0     4.2       24269.0   \n",
       "1        1099.0                 64.0     4.2       24269.0   \n",
       "2        1099.0                 64.0     4.2       24269.0   \n",
       "3        1099.0                 64.0     4.2       24269.0   \n",
       "4        1099.0                 64.0     4.2       24269.0   \n",
       "\n",
       "                                       about_product  \\\n",
       "0  High Compatibility : Compatible With iPhone 12...   \n",
       "1  High Compatibility : Compatible With iPhone 12...   \n",
       "2  High Compatibility : Compatible With iPhone 12...   \n",
       "3  High Compatibility : Compatible With iPhone 12...   \n",
       "4  High Compatibility : Compatible With iPhone 12...   \n",
       "\n",
       "                        user_id  \\\n",
       "0  AG3D6O4STAQKAY2UVGEUV46KN35Q   \n",
       "1  AHMY5CWJMMK5BJRBBSNLYT3ONILA   \n",
       "2  AHCTC6ULH4XB6YHDY6PCH2R772LQ   \n",
       "3  AGYHHIERNXKA6P5T7CZLXKVPT7IQ   \n",
       "4  AG4OGOFWXJZTQ2HKYIOCOY3KXF2Q   \n",
       "\n",
       "                                           user_name  \\\n",
       "0  Manav,Adarsh gupta,Sundeep,S.Sayeed Ahmed,jasp...   \n",
       "1  Manav,Adarsh gupta,Sundeep,S.Sayeed Ahmed,jasp...   \n",
       "2  Manav,Adarsh gupta,Sundeep,S.Sayeed Ahmed,jasp...   \n",
       "3  Manav,Adarsh gupta,Sundeep,S.Sayeed Ahmed,jasp...   \n",
       "4  Manav,Adarsh gupta,Sundeep,S.Sayeed Ahmed,jasp...   \n",
       "\n",
       "                                           review_id  \\\n",
       "0  R3HXWT0LRP0NMF,R2AJM3LFTLZHFO,R6AQJGUP6P86,R1K...   \n",
       "1  R3HXWT0LRP0NMF,R2AJM3LFTLZHFO,R6AQJGUP6P86,R1K...   \n",
       "2  R3HXWT0LRP0NMF,R2AJM3LFTLZHFO,R6AQJGUP6P86,R1K...   \n",
       "3  R3HXWT0LRP0NMF,R2AJM3LFTLZHFO,R6AQJGUP6P86,R1K...   \n",
       "4  R3HXWT0LRP0NMF,R2AJM3LFTLZHFO,R6AQJGUP6P86,R1K...   \n",
       "\n",
       "                                        review_title  \\\n",
       "0  Satisfied,Charging is really fast,Value for mo...   \n",
       "1  Satisfied,Charging is really fast,Value for mo...   \n",
       "2  Satisfied,Charging is really fast,Value for mo...   \n",
       "3  Satisfied,Charging is really fast,Value for mo...   \n",
       "4  Satisfied,Charging is really fast,Value for mo...   \n",
       "\n",
       "                                      review_content  \\\n",
       "0  Looks durable Charging is fine tooNo complains...   \n",
       "1  Looks durable Charging is fine tooNo complains...   \n",
       "2  Looks durable Charging is fine tooNo complains...   \n",
       "3  Looks durable Charging is fine tooNo complains...   \n",
       "4  Looks durable Charging is fine tooNo complains...   \n",
       "\n",
       "                                            img_link  \\\n",
       "0  https://m.media-amazon.com/images/W/WEBP_40237...   \n",
       "1  https://m.media-amazon.com/images/W/WEBP_40237...   \n",
       "2  https://m.media-amazon.com/images/W/WEBP_40237...   \n",
       "3  https://m.media-amazon.com/images/W/WEBP_40237...   \n",
       "4  https://m.media-amazon.com/images/W/WEBP_40237...   \n",
       "\n",
       "                                        product_link  \n",
       "0  https://www.amazon.in/Wayona-Braided-WN3LG1-Sy...  \n",
       "1  https://www.amazon.in/Wayona-Braided-WN3LG1-Sy...  \n",
       "2  https://www.amazon.in/Wayona-Braided-WN3LG1-Sy...  \n",
       "3  https://www.amazon.in/Wayona-Braided-WN3LG1-Sy...  \n",
       "4  https://www.amazon.in/Wayona-Braided-WN3LG1-Sy...  "
      ]
     },
     "execution_count": 17,
     "metadata": {},
     "output_type": "execute_result"
    }
   ],
   "source": [
    "df.head()"
   ]
  },
  {
   "cell_type": "code",
   "execution_count": 3,
   "id": "333dbfc8-620f-4e89-ba68-9175e77ba976",
   "metadata": {},
   "outputs": [],
   "source": [
    "\n",
    "# ========== 1. Clean price, discount and rating columns ==========\n",
    "def clean_price(value):\n",
    "    return float(value.replace('₹', '').replace(',', '').strip()) if isinstance(value, str) else np.nan\n",
    "\n",
    "def clean_discount(value):\n",
    "    return float(value.replace('%', '').strip()) if isinstance(value, str) else np.nan\n",
    "\n",
    "def clean_rating_count(value):\n",
    "    return int(value.replace(',', '').strip()) if isinstance(value, str) and value.replace(',', '').isdigit() else np.nan\n"
   ]
  },
  {
   "cell_type": "code",
   "execution_count": 4,
   "id": "421a579c-34f1-41c3-917e-93a802132310",
   "metadata": {},
   "outputs": [],
   "source": [
    "\n",
    "# Apply cleaning functions\n",
    "df['discounted_price'] = df['discounted_price'].apply(clean_price)\n",
    "df['actual_price'] = df['actual_price'].apply(clean_price)\n",
    "df['discount_percentage'] = df['discount_percentage'].apply(clean_discount)\n",
    "df['rating'] = pd.to_numeric(df['rating'], errors='coerce')\n",
    "df['rating_count'] = df['rating_count'].apply(clean_rating_count)\n"
   ]
  },
  {
   "cell_type": "code",
   "execution_count": 5,
   "id": "778dc610-f318-4e13-89a5-ee8c75c1a6d9",
   "metadata": {},
   "outputs": [],
   "source": [
    "\n",
    "# ========== 2. Explode user_id (and other review fields if needed) ==========\n",
    "# Convert comma-separated user_ids to list\n",
    "df['user_id'] = df['user_id'].apply(lambda x: str(x).split(','))\n"
   ]
  },
  {
   "cell_type": "code",
   "execution_count": 6,
   "id": "ac349ca9-cd98-43f1-96e5-074c63e096b4",
   "metadata": {},
   "outputs": [],
   "source": [
    "\n",
    "# Explode the user_id column (each row becomes one user-product pair)\n",
    "df = df.explode('user_id')\n"
   ]
  },
  {
   "cell_type": "code",
   "execution_count": 7,
   "id": "2a151910-a004-46bf-991c-31ca85489a19",
   "metadata": {},
   "outputs": [],
   "source": [
    "\n",
    "# Remove whitespaces\n",
    "df['user_id'] = df['user_id'].str.strip()\n",
    "\n"
   ]
  },
  {
   "cell_type": "code",
   "execution_count": 8,
   "id": "43404f45-d7ac-42f2-8a83-779a9d7201c4",
   "metadata": {},
   "outputs": [],
   "source": [
    "# ========== 3. Drop nulls and duplicates ==========\n",
    "df.dropna(subset=['user_id', 'product_id', 'rating'], inplace=True)\n",
    "df.drop_duplicates(subset=['user_id', 'product_id'], inplace=True)\n"
   ]
  },
  {
   "cell_type": "code",
   "execution_count": 9,
   "id": "dcacad9c-fb5a-4942-89f4-caf5612e9359",
   "metadata": {},
   "outputs": [
    {
     "name": "stdout",
     "output_type": "stream",
     "text": [
      "                        user_id  product_id  rating\n",
      "0  AG3D6O4STAQKAY2UVGEUV46KN35Q  B07JW9H4J1     4.2\n",
      "0  AHMY5CWJMMK5BJRBBSNLYT3ONILA  B07JW9H4J1     4.2\n",
      "0  AHCTC6ULH4XB6YHDY6PCH2R772LQ  B07JW9H4J1     4.2\n",
      "0  AGYHHIERNXKA6P5T7CZLXKVPT7IQ  B07JW9H4J1     4.2\n",
      "0  AG4OGOFWXJZTQ2HKYIOCOY3KXF2Q  B07JW9H4J1     4.2\n"
     ]
    }
   ],
   "source": [
    "\n",
    "# Preview cleaned dataset\n",
    "print(df[['user_id', 'product_id', 'rating']].head())\n",
    "\n",
    "\n"
   ]
  },
  {
   "cell_type": "code",
   "execution_count": 10,
   "id": "a7f32393-b914-45af-9e89-6ca8414c2f2d",
   "metadata": {},
   "outputs": [],
   "source": [
    "# (Optional) Save cleaned dataset\n",
    "df.to_csv(\"cleaned_amazon_data.csv\", index=False)"
   ]
  },
  {
   "cell_type": "code",
   "execution_count": 11,
   "id": "cd367a7d-b20d-47f3-adf5-ee1af3cc89b9",
   "metadata": {},
   "outputs": [
    {
     "name": "stdout",
     "output_type": "stream",
     "text": [
      "                        user_id  product_id  rating\n",
      "0  AG3D6O4STAQKAY2UVGEUV46KN35Q  B07JW9H4J1     4.2\n",
      "1  AHMY5CWJMMK5BJRBBSNLYT3ONILA  B07JW9H4J1     4.2\n",
      "2  AHCTC6ULH4XB6YHDY6PCH2R772LQ  B07JW9H4J1     4.2\n",
      "3  AGYHHIERNXKA6P5T7CZLXKVPT7IQ  B07JW9H4J1     4.2\n",
      "4  AG4OGOFWXJZTQ2HKYIOCOY3KXF2Q  B07JW9H4J1     4.2\n"
     ]
    }
   ],
   "source": [
    "# Load the cleaned dataset\n",
    "df = pd.read_csv(\"cleaned_amazon_data.csv\")\n",
    "\n",
    "# Safe version without warning\n",
    "interaction_df = df[['user_id', 'product_id', 'rating']].copy()\n",
    "\n",
    "# Now it's safe to modify\n",
    "interaction_df.drop_duplicates(subset=['user_id', 'product_id'], inplace=True)\n",
    "interaction_df.reset_index(drop=True, inplace=True)\n",
    "\n",
    "# Preview the interaction matrix\n",
    "print(interaction_df.head())\n",
    "\n",
    "# (Optional) Save for next step\n",
    "interaction_df.to_csv(\"user_product_interaction.csv\", index=False)"
   ]
  },
  {
   "cell_type": "code",
   "execution_count": 12,
   "id": "928149ed-7637-4fbb-b0de-9dc6c0d2e8bb",
   "metadata": {},
   "outputs": [],
   "source": [
    "# STEP 1: Group by product_id to get unique products\n",
    "grouped_df = df.groupby('product_id').agg({\n",
    "    'product_name': 'first',\n",
    "    'about_product': lambda x: ' '.join(x.dropna().astype(str)),\n",
    "    'category': 'first',\n",
    "    'review_content': lambda x: ' '.join(x.dropna().astype(str))\n",
    "}).reset_index()\n",
    "\n",
    "# STEP 2: Create combined feature\n",
    "grouped_df['combined_features'] = grouped_df['about_product'] + ' ' + \\\n",
    "                                  grouped_df['category'] + ' ' + \\\n",
    "                                  grouped_df['review_content']\n",
    "\n",
    "# STEP 3: TF-IDF Vectorization\n",
    "from sklearn.feature_extraction.text import TfidfVectorizer\n",
    "from sklearn.metrics.pairwise import cosine_similarity\n",
    "\n",
    "tfidf = TfidfVectorizer(stop_words='english')\n",
    "tfidf_matrix = tfidf.fit_transform(grouped_df['combined_features'])\n",
    "\n",
    "# STEP 4: Cosine Similarity\n",
    "cosine_sim = cosine_similarity(tfidf_matrix, tfidf_matrix)\n",
    "\n",
    "# STEP 5: Product ID to Index Mapping\n",
    "product_indices = pd.Series(grouped_df.index, index=grouped_df['product_id'])\n",
    "\n",
    "# STEP 6: Recommendation Function\n",
    "def recommend_similar_products(product_id, top_n=5):\n",
    "    if product_id not in product_indices:\n",
    "        return f\"❌ Product ID '{product_id}' not found.\"\n",
    "\n",
    "    idx = int(product_indices[product_id])\n",
    "    sim_scores = list(enumerate(cosine_sim[idx]))\n",
    "    sim_scores = sorted(sim_scores, key=lambda x: x[1], reverse=True)[1:top_n+1]\n",
    "    product_indices_top = [i[0] for i in sim_scores]\n",
    "\n",
    "    return grouped_df.iloc[product_indices_top][['product_id', 'product_name']]\n"
   ]
  },
  {
   "cell_type": "code",
   "execution_count": 13,
   "id": "21dc00e2-a5f2-472c-b712-ae1ec013ea82",
   "metadata": {},
   "outputs": [
    {
     "name": "stdout",
     "output_type": "stream",
     "text": [
      "     product_id                                       product_name\n",
      "339  B07JH1CBGW  Wayona Nylon Braided Usb Syncing And Charging ...\n",
      "345  B07JW1Y6XV  Wayona Nylon Braided 3A Lightning to USB A Syn...\n",
      "338  B07JH1C41D  Wayona Nylon Braided (2 Pack) Lightning Fast U...\n",
      "369  B07LGT55SJ  Wayona Usb Nylon Braided Data Sync And Chargin...\n",
      "337  B07JGDB5M1  Wayona Nylon Braided 2M / 6Ft Fast Charge Usb ...\n"
     ]
    }
   ],
   "source": [
    "print(recommend_similar_products(\"B07JW9H4J1\", top_n=5))\n"
   ]
  },
  {
   "cell_type": "code",
   "execution_count": 14,
   "id": "90cb9527-acea-4bcc-befd-d799dfc88d38",
   "metadata": {},
   "outputs": [
    {
     "name": "stdout",
     "output_type": "stream",
     "text": [
      "['https://m.media-amazon.com/images/W/WEBP_402378-T1/images/I/51UsScvHQNL._SX300_SY300_QL70_FMwebp_.jpg'\n",
      " 'https://m.media-amazon.com/images/W/WEBP_402378-T2/images/I/31zOsqQOAOL._SY445_SX342_QL70_FMwebp_.jpg'\n",
      " 'https://m.media-amazon.com/images/W/WEBP_402378-T1/images/I/31IvNJZnmdL._SY445_SX342_QL70_FMwebp_.jpg'\n",
      " 'https://m.media-amazon.com/images/I/41V5FtEWPkL._SX300_SY300_QL70_FMwebp_.jpg'\n",
      " 'https://m.media-amazon.com/images/W/WEBP_402378-T2/images/I/31VzNhhqifL._SX300_SY300_QL70_FMwebp_.jpg']\n"
     ]
    }
   ],
   "source": [
    "print(df['img_link'].dropna().unique()[:5])"
   ]
  },
  {
   "cell_type": "code",
   "execution_count": 15,
   "id": "1c955a70",
   "metadata": {},
   "outputs": [
    {
     "data": {
      "text/plain": [
       "'B098NS6PVG'"
      ]
     },
     "execution_count": 15,
     "metadata": {},
     "output_type": "execute_result"
    }
   ],
   "source": [
    "df['product_id'][10]"
   ]
  },
  {
   "cell_type": "code",
   "execution_count": null,
   "id": "4e0675b5",
   "metadata": {},
   "outputs": [],
   "source": []
  }
 ],
 "metadata": {
  "kernelspec": {
   "display_name": "Python 3",
   "language": "python",
   "name": "python3"
  },
  "language_info": {
   "codemirror_mode": {
    "name": "ipython",
    "version": 3
   },
   "file_extension": ".py",
   "mimetype": "text/x-python",
   "name": "python",
   "nbconvert_exporter": "python",
   "pygments_lexer": "ipython3",
   "version": "3.13.3"
  }
 },
 "nbformat": 4,
 "nbformat_minor": 5
}
